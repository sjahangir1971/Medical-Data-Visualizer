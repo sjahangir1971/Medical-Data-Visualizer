{
 "cells": [
  {
   "cell_type": "code",
   "execution_count": 97,
   "metadata": {},
   "outputs": [],
   "source": [
    "import numpy as np\n",
    "import pandas as pd\n",
    "import seaborn as sns\n",
    "import matplotlib.pyplot as plt"
   ]
  },
  {
   "cell_type": "code",
   "execution_count": 98,
   "metadata": {},
   "outputs": [],
   "source": [
    "# 1. Import the data from medical_examination.csv and assign it to the df variable.\n",
    "df = pd.read_csv('medical_examination.csv')\n"
   ]
  },
  {
   "cell_type": "code",
   "execution_count": 99,
   "metadata": {},
   "outputs": [
    {
     "data": {
      "text/plain": [
       "id               int64\n",
       "age              int64\n",
       "sex             object\n",
       "height           int64\n",
       "weight         float64\n",
       "ap_hi            int64\n",
       "ap_lo            int64\n",
       "cholesterol      int64\n",
       "gluc             int64\n",
       "smoke            int64\n",
       "alco             int64\n",
       "active           int64\n",
       "cardio           int64\n",
       "dtype: object"
      ]
     },
     "execution_count": 99,
     "metadata": {},
     "output_type": "execute_result"
    }
   ],
   "source": [
    "df.dtypes"
   ]
  },
  {
   "cell_type": "code",
   "execution_count": 100,
   "metadata": {},
   "outputs": [],
   "source": [
    "# 2. Add an overweight column to the data.\n",
    "df['overweight'] = df['weight'] / ((df['height'] / 100) ** 2)\n",
    "df['overweight'] = df['overweight'].apply(lambda x: 1 if x > 25 else 0)"
   ]
  },
  {
   "cell_type": "code",
   "execution_count": 101,
   "metadata": {},
   "outputs": [],
   "source": [
    "# 3. Normalize data by making 0 always good and 1 always bad.\n",
    "df['cholesterol'] = df['cholesterol'].apply(lambda x: 0 if x == 1 else 1)\n",
    "df['gluc'] = df['gluc'].apply(lambda x: 0 if x == 1 else 1)"
   ]
  },
  {
   "cell_type": "code",
   "execution_count": 102,
   "metadata": {},
   "outputs": [],
   "source": [
    "# 4. Draw the Categorical Plot in the draw_cat_plot function.\n",
    "def draw_cat_plot():\n",
    "    # 5. Create a DataFrame for the cat plot using pd.melt\n",
    "    df_cat = pd.melt(df, id_vars=['cardio'], value_vars=['cholesterol', 'gluc', 'smoke', 'alco', 'active', 'overweight'])\n",
    "\n",
    "    # 6.  Group and reformat the data in df_cat to split it by cardio\n",
    "    # Group and reformat the data in df_cat to split it by cardio.\n",
    "    df_cat_grouped = df_cat.groupby(['cardio', 'variable', 'value']).size().reset_index(name='count')\n",
    "    print(df_cat_grouped)    \n",
    "    \n",
    "    # Rename the 'variable' column to 'feature' for the catplot to work correctly.\n",
    "    df_cat_grouped = df_cat_grouped.rename(columns={'variable': 'feature'})\n",
    "    # Show the counts of each feature.\n",
    "    print(df_cat_grouped)    \n",
    "    \n",
    "    #df_cat_grouped = pd.melt(df_cat, id_vars=['cardio'], var_name='feature', value_name='result')\n",
    "    # df_cat_grouped.to_csv(\"df_cat_gr.csv\")\n",
    "    # Convert the data into long format and create a chart that shows the value counts of the categorical features\n",
    "    # fig, axs = plt.subplots(1, 2, figsize=(12, 6))\n",
    "    \n",
    "    fig = sns.catplot(x=\"feature\", hue=\"result\", col=\"cardio\", kind=\"count\", data=df_cat_grouped)\n",
    "    # Save the figure\n",
    "    draw_cat_plot()\n",
    "    fig.savefig('catplot.png')\n"
   ]
  },
  {
   "cell_type": "code",
   "execution_count": null,
   "metadata": {},
   "outputs": [],
   "source": []
  }
 ],
 "metadata": {
  "kernelspec": {
   "display_name": "Python 3",
   "language": "python",
   "name": "python3"
  },
  "language_info": {
   "codemirror_mode": {
    "name": "ipython",
    "version": 3
   },
   "file_extension": ".py",
   "mimetype": "text/x-python",
   "name": "python",
   "nbconvert_exporter": "python",
   "pygments_lexer": "ipython3",
   "version": "3.13.1"
  }
 },
 "nbformat": 4,
 "nbformat_minor": 2
}
